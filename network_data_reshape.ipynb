{
 "cells": [
  {
   "cell_type": "code",
   "execution_count": 5,
   "metadata": {},
   "outputs": [],
   "source": [
    "import os\n",
    "import pandas as pd\n",
    "import matplotlib.pyplot as plt\n",
    "import nltk\n",
    "import json\n",
    "%matplotlib inline"
   ]
  },
  {
   "cell_type": "code",
   "execution_count": 8,
   "metadata": {},
   "outputs": [],
   "source": [
    "cuisines = []\n",
    "flavors = []\n",
    "ingredients = []\n",
    "name = []\n",
    "source = []\n",
    "for filename in os.listdir('data/metadata27638'):\n",
    "    if filename.endswith('.json'):\n",
    "        data = json.load(open('data/metadata27638/'+filename))\n",
    "        cuisines.append(data['attributes']['cuisine'][0])\n",
    "        flavors.append(data['flavors'])\n",
    "        ingredientStr = ''\n",
    "        for ingred in data['ingredientLines']:\n",
    "            ingredientStr = ingredientStr + ingred\n",
    "        ingredients.append(ingredientStr)\n",
    "        name.append(data['name'])\n",
    "        source.append(data['source']['sourceDisplayName'])\n",
    "        \n",
    "df = pd.DataFrame({'cuisine':cuisines,'name':name,'flavors':flavors,'ingredients':ingredients,'source':source})"
   ]
  },
  {
   "cell_type": "code",
   "execution_count": null,
   "metadata": {},
   "outputs": [],
   "source": []
  },
  {
   "cell_type": "code",
   "execution_count": null,
   "metadata": {},
   "outputs": [],
   "source": []
  },
  {
   "cell_type": "code",
   "execution_count": null,
   "metadata": {},
   "outputs": [],
   "source": []
  }
 ],
 "metadata": {
  "kernelspec": {
   "display_name": "Python 3",
   "language": "python",
   "name": "python3"
  },
  "language_info": {
   "codemirror_mode": {
    "name": "ipython",
    "version": 3
   },
   "file_extension": ".py",
   "mimetype": "text/x-python",
   "name": "python",
   "nbconvert_exporter": "python",
   "pygments_lexer": "ipython3",
   "version": "3.6.6"
  }
 },
 "nbformat": 4,
 "nbformat_minor": 2
}
