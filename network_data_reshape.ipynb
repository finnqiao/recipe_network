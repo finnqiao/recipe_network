{
 "cells": [
  {
   "cell_type": "code",
   "execution_count": 201,
   "metadata": {},
   "outputs": [],
   "source": [
    "import os\n",
    "import pandas as pd\n",
    "import matplotlib.pyplot as plt\n",
    "from nltk.corpus import stopwords \n",
    "from nltk.tokenize import word_tokenize \n",
    "from nltk import pos_tag\n",
    "from nltk import PorterStemmer\n",
    "import json\n",
    "import re\n",
    "from bs4 import BeautifulSoup\n",
    "import requests\n",
    "import inflect\n",
    "import itertools\n",
    "from tqdm import tqdm\n",
    "p = inflect.engine()\n",
    "%matplotlib inline\n",
    "\n",
    "stop_words = set(stopwords.words('english'))"
   ]
  },
  {
   "cell_type": "code",
   "execution_count": 2,
   "metadata": {},
   "outputs": [],
   "source": [
    "# Test dataframe with only yummly data\n",
    "\n",
    "# cuisines = []\n",
    "# flavors = []\n",
    "# ingredients = []\n",
    "# name = []\n",
    "# source = []\n",
    "# for filename in os.listdir('data/metadata27638'):\n",
    "#     if filename.endswith('.json'):\n",
    "#         data = json.load(open('data/metadata27638/'+filename))\n",
    "#         cuisines.append(data['attributes']['cuisine'][0])\n",
    "#         flavors.append(data['flavors'])\n",
    "#         ingredientStr = ''\n",
    "#         for ingred in data['ingredientLines']:\n",
    "#             ingredientStr = ingredientStr + ingred\n",
    "#         ingredients.append(ingredientStr)\n",
    "#         name.append(data['name'])\n",
    "#         source.append(data['source']['sourceDisplayName'])\n",
    "        \n",
    "# df = pd.DataFrame({'cuisine':cuisines,'name':name,'flavors':flavors,'ingredients':ingredients,'source':source})"
   ]
  },
  {
   "cell_type": "code",
   "execution_count": 3,
   "metadata": {},
   "outputs": [],
   "source": [
    "# Reading in data and checking if name and ingredient lists exist\n",
    "\n",
    "names = []\n",
    "ingreds = []\n",
    "\n",
    "for filename in os.listdir('data/recipe_box'):\n",
    "    if filename.endswith('.json'):\n",
    "        data = list(json.load(open('data/recipe_box/'+filename)).values())\n",
    "        for recipe in data:\n",
    "            if ('title' not in recipe.keys() or 'ingredients' not in recipe.keys()):\n",
    "                continue\n",
    "            names.append(recipe['title'])\n",
    "            ingreds.append(recipe['ingredients'])"
   ]
  },
  {
   "cell_type": "code",
   "execution_count": 130,
   "metadata": {},
   "outputs": [],
   "source": [
    "# Creating data frame with dish names and ingredients\n",
    "\n",
    "df = pd.DataFrame({'name':names,'ingredients':ingreds})"
   ]
  },
  {
   "cell_type": "code",
   "execution_count": 131,
   "metadata": {},
   "outputs": [
    {
     "data": {
      "text/plain": [
       "(124647, 2)"
      ]
     },
     "execution_count": 131,
     "metadata": {},
     "output_type": "execute_result"
    }
   ],
   "source": [
    "df.shape"
   ]
  },
  {
   "cell_type": "code",
   "execution_count": 138,
   "metadata": {},
   "outputs": [
    {
     "data": {
      "text/plain": [
       "(122971, 2)"
      ]
     },
     "execution_count": 138,
     "metadata": {},
     "output_type": "execute_result"
    }
   ],
   "source": [
    "# Remove empty ingredient lists\n",
    "\n",
    "df = df[df.astype('str')['ingredients']!='[]']\n",
    "df.shape"
   ]
  },
  {
   "cell_type": "code",
   "execution_count": 6,
   "metadata": {
    "scrolled": true
   },
   "outputs": [
    {
     "data": {
      "text/plain": [
       "['3 to 4 cups chicken stock, preferably homemade, recipe follows',\n",
       " '1 quart Roasted Winter Vegetables, recipe follows',\n",
       " 'Kosher salt and freshly ground black pepper',\n",
       " '3 (5-pound) roasting chickens',\n",
       " '3 large yellow onions, unpeeled, quartered',\n",
       " '6 carrots, unpeeled, halved',\n",
       " '4 celery stalks with leaves, cut in thirds',\n",
       " '4 parsnips, unpeeled, cut in 1/2, optional',\n",
       " '20 sprigs fresh parsley',\n",
       " '15 sprigs fresh thyme',\n",
       " '20 sprigs fresh dill',\n",
       " '1 head garlic, unpeeled, cut in 1/2 crosswise',\n",
       " '2 tablespoons kosher salt',\n",
       " '2 teaspoons whole black peppercorns',\n",
       " '1 pound carrots, peeled',\n",
       " '1 pound parsnips, peeled',\n",
       " '1 large sweet potato, peeled',\n",
       " '1 small butternut squash (about 2 pounds), peeled and seeded',\n",
       " '3 tablespoons good olive oil',\n",
       " '1 1/2 teaspoons kosher salt',\n",
       " '1/2 teaspoon freshly ground black pepper',\n",
       " '2 tablespoons chopped fresh flat-leaf parsley']"
      ]
     },
     "execution_count": 6,
     "metadata": {},
     "output_type": "execute_result"
    }
   ],
   "source": [
    "# Example of ingredient list\n",
    "\n",
    "df['ingredients'][10]"
   ]
  },
  {
   "cell_type": "code",
   "execution_count": 139,
   "metadata": {},
   "outputs": [
    {
     "data": {
      "text/plain": [
       "['1/2 small head green cabbage, cored and thinly sliced ADVERTISEMENT',\n",
       " '1/2 jicama, sliced into matchsticks ADVERTISEMENT',\n",
       " '1 large sweet apple (such as Fuji), sliced into matchsticks ADVERTISEMENT',\n",
       " '1/2 cup mayonnaise ADVERTISEMENT',\n",
       " '1/4 cup pineapple juice ADVERTISEMENT',\n",
       " '1 teaspoon white sugar ADVERTISEMENT',\n",
       " 'hot sauce to taste ADVERTISEMENT',\n",
       " 'salt and freshly ground black pepper to taste ADVERTISEMENT',\n",
       " '1/4 bunch chopped fresh cilantro ADVERTISEMENT',\n",
       " '1/3 ounce toasted corn bits (such as CornNuts ®), crushed ADVERTISEMENT',\n",
       " 'ADVERTISEMENT']"
      ]
     },
     "execution_count": 139,
     "metadata": {},
     "output_type": "execute_result"
    }
   ],
   "source": [
    "# Example of ingredient list with ADVERTISEMENT tags\n",
    "\n",
    "df['ingredients'][100000]"
   ]
  },
  {
   "cell_type": "code",
   "execution_count": 176,
   "metadata": {},
   "outputs": [
    {
     "data": {
      "text/plain": [
       "['1/2 small head green cabbage, cored and thinly sliced ADVERTISEMENT',\n",
       " '1/2 jicama, sliced into matchsticks ADVERTISEMENT',\n",
       " '1 large sweet apple (such as Fuji), sliced into matchsticks ADVERTISEMENT',\n",
       " '1/2 cup mayonnaise ADVERTISEMENT',\n",
       " '1/4 cup pineapple juice ADVERTISEMENT',\n",
       " '1 teaspoon white sugar ADVERTISEMENT',\n",
       " 'hot sauce to taste ADVERTISEMENT',\n",
       " 'salt and freshly ground black pepper to taste ADVERTISEMENT',\n",
       " '1/4 bunch chopped fresh cilantro ADVERTISEMENT',\n",
       " '1/3 ounce toasted corn bits (such as CornNuts ®), crushed ADVERTISEMENT',\n",
       " 'ADVERTISEMENT']"
      ]
     },
     "execution_count": 176,
     "metadata": {},
     "output_type": "execute_result"
    }
   ],
   "source": [
    "testlist = df['ingredients'][100000]\n",
    "testlist"
   ]
  },
  {
   "cell_type": "code",
   "execution_count": 177,
   "metadata": {},
   "outputs": [],
   "source": [
    "# Scraping corpus of words related to measurements\n",
    "\n",
    "page = requests.get('https://www.enchantedlearning.com/wordlist/measurement.shtml')\n",
    "soup = BeautifulSoup(page.content, \"html.parser\")\n",
    "measure_corpus = [tag.text for tag in soup.find_all('div',attrs={'class':'wordlist-item'})]\n",
    "measure_corpus = measure_corpus + [text+'s' for text in measure_corpus] + ['taste','strip', 'strips', 'package' + 'packages' + 'satchet' + 'satchets' + 'sprigs','head','bunch','small','large','big','medium']"
   ]
  },
  {
   "cell_type": "code",
   "execution_count": 188,
   "metadata": {},
   "outputs": [],
   "source": [
    "def clean_recipe(ingred_list):\n",
    "    cleanedtext = []\n",
    "    for ingred in ingred_list:\n",
    "        # Ignore extra information\n",
    "        matchtext = re.sub(r' \\([^)]*\\)', '', ingred)\n",
    "        \n",
    "        # Obtain all before first comma\n",
    "        if re.compile('^(.+?)(?=,)').search(matchtext) is not None:\n",
    "            matchtext = re.compile('^(.+?)(?=,)').search(matchtext).group(1)\n",
    "            matchtext = matchtext.replace(' ADVERTISEMENT','')\n",
    "            \n",
    "        # Ignore advertisement tag\n",
    "        elif (ingred == 'ADVERTISEMENT'):\n",
    "            continue\n",
    "        \n",
    "        # If all text, make sure no advertisement tag\n",
    "        else:\n",
    "            matchtext = matchtext.replace(' ADVERTISEMENT','')\n",
    "        \n",
    "        # Tokenize ingredient list\n",
    "        tokenized = word_tokenize(matchtext)\n",
    "        \n",
    "        # Remove words likely to be stop words or measurements\n",
    "        removed_stop = [w for w in tokenized if not w in measure_corpus]\n",
    "        removed_stop = [w for w in removed_stop if not w in stop_words]\n",
    "        \n",
    "        # Filter adjectives and nouns\n",
    "        ingred_words = lambda pos: pos[:2] in ['JJ','NN','NNS']\n",
    "        ingreds = [word.lower() for (word, pos) in pos_tag(removed_stop) if ingred_words(pos)]\n",
    "        \n",
    "        # Convert to singular\n",
    "        ingreds = [p.singular_noun(word) if p.singular_noun(word) else word for word in ingreds]\n",
    "        \n",
    "        # Remove common ingredients \n",
    "        common = ['water','salt','pepper']\n",
    "        cleanedtext.append(ingreds)\n",
    "        cleanedtext = [[ing for ing in ingreds if not any(word in common for word in ingreds)] for ingreds in cleanedtext]\n",
    "        \n",
    "        # Remove additional descriptors for long ingredient names\n",
    "        cleanedtext = [ingreds[-2:] if len(ingreds) > 2 else ingreds for ingreds in cleanedtext]\n",
    "   \n",
    "    return [(' ').join(item) for item in cleanedtext if len(item)>0]"
   ]
  },
  {
   "cell_type": "code",
   "execution_count": 192,
   "metadata": {},
   "outputs": [
    {
     "data": {
      "text/plain": [
       "['cooking spray',\n",
       " 'bread crumb',\n",
       " 'olive oil',\n",
       " 'turkey chicken',\n",
       " 'pasta',\n",
       " 'parmesan',\n",
       " 'white cheddar',\n",
       " 'cherry tomato',\n",
       " 'broccoli',\n",
       " 'asparagu']"
      ]
     },
     "execution_count": 192,
     "metadata": {},
     "output_type": "execute_result"
    }
   ],
   "source": [
    "clean_recipe(df['ingredients'][3420])"
   ]
  },
  {
   "cell_type": "code",
   "execution_count": 180,
   "metadata": {},
   "outputs": [],
   "source": [
    "#regex test\n",
    "# re.compile('(?<=\\d )(?!.*\\d)(.+?)(?=[^a-zA-Z ])').search('1 large sweet apple (such as Fuji), sliced into matchsticks ADVERTISEMENT').group(1)"
   ]
  },
  {
   "cell_type": "code",
   "execution_count": 193,
   "metadata": {},
   "outputs": [
    {
     "data": {
      "text/plain": [
       "['Vegetable cooking spray',\n",
       " '2 cups dried bread crumbs, divided',\n",
       " '1 tablespoon olive oil, plus extra for drizzling',\n",
       " '8 ounces ground turkey or chicken, preferably dark meat',\n",
       " '1/2 teaspoon kosher salt, plus extra for seasoning',\n",
       " '1/4 teaspoon freshly ground black pepper, plus extra for seasoning',\n",
       " '8 ounces small pasta, such as pennette, shells, or elbows',\n",
       " '2 cups grated Parmesan',\n",
       " '1 1/2 cups grated white Cheddar',\n",
       " '1 cup cherry tomatoes, quartered',\n",
       " \"2 cups chopped broccoli, blanched,* see Cook's Note\",\n",
       " '1 pound asparagus, cut into 3/4-inch pieces, blanched']"
      ]
     },
     "execution_count": 193,
     "metadata": {},
     "output_type": "execute_result"
    }
   ],
   "source": [
    "df['ingredients'][3420]"
   ]
  },
  {
   "cell_type": "code",
   "execution_count": 195,
   "metadata": {},
   "outputs": [],
   "source": [
    "# Clean recipes across dataframe\n",
    "\n",
    "df['ingreds_list'] = df['ingredients'].apply(clean_recipe)"
   ]
  },
  {
   "cell_type": "code",
   "execution_count": 198,
   "metadata": {},
   "outputs": [
    {
     "data": {
      "text/plain": [
       "0     [celery, green onion, parsley, crabmeat, crack...\n",
       "1     [skirt steak, applewood bacon, red onion, jala...\n",
       "2     [black bean, clove garlic, vegetable oil, red ...\n",
       "3     [ground chuck, tomato sauce, egg noodle, sour ...\n",
       "4     [rice, 1/2-cup quinoa, white tuna, seaweed kel...\n",
       "5     [olive oil, italian eggplant, hummu hummu, gra...\n",
       "6     [saffron thread, sugar, orange zest, carrot, u...\n",
       "7     [hot-dog bun, unsalted butter, lobster lobster...\n",
       "8     [olive oil, onion, pine nut, white rice, tomat...\n",
       "9     [cauliflower, clove garlic, unsalted butter, b...\n",
       "10    [chicken stock, winter vegetable, roasting chi...\n",
       "11    [chili sauce, rice vinegar, fish sauce, fresh ...\n",
       "12                        [cheese product, green chily]\n",
       "13    [london broil, olive oil, worcestershire sauce...\n",
       "14    [duck, garlic clove, cinnamon stick, fat lard,...\n",
       "15    [purpose flour, cornmeal, baking powder, sugar...\n",
       "16    [boneles, egg, bread crumb, deli ham, wine sau...\n",
       "17    [tortilla chip, neely bbq, pork, bbq sauce, na...\n",
       "18    [butter, onion, cornmeal muffin, sage leaf, eg...\n",
       "19    [lobster tail, olive oil, onion, clove garlic,...\n",
       "Name: ingreds_list, dtype: object"
      ]
     },
     "execution_count": 198,
     "metadata": {},
     "output_type": "execute_result"
    }
   ],
   "source": [
    "df['ingreds_list'].head(20)"
   ]
  },
  {
   "cell_type": "code",
   "execution_count": 202,
   "metadata": {},
   "outputs": [],
   "source": [
    "list_ingreds = df['ingreds_list']"
   ]
  },
  {
   "cell_type": "code",
   "execution_count": 220,
   "metadata": {},
   "outputs": [
    {
     "name": "stderr",
     "output_type": "stream",
     "text": [
      "100%|██████████| 122971/122971 [11:20:42<00:00,  3.01it/s]     \n"
     ]
    }
   ],
   "source": [
    "combinations = []\n",
    "\n",
    "for lists in tqdm(list_ingreds):\n",
    "    combinations = combinations + list(itertools.combinations(lists,2))\n",
    "    \n",
    "combinations_df = pd.DataFrame(combinations)"
   ]
  },
  {
   "cell_type": "code",
   "execution_count": 235,
   "metadata": {},
   "outputs": [
    {
     "data": {
      "text/plain": [
       "olive oil            227283\n",
       "sugar                155241\n",
       "all-purpose flour    136604\n",
       "egg                  133026\n",
       "clove garlic         124594\n",
       "butter               117346\n",
       "onion                113675\n",
       "unsalted butter      103680\n",
       "vegetable oil         73556\n",
       "brown sugar           69973\n",
       "white sugar           56396\n",
       "garlic clove          54070\n",
       "baking powder         52413\n",
       "vanilla extract       52015\n",
       "milk                  49532\n",
       "carrot                48451\n",
       "lemon juice           47917\n",
       "garlic                43892\n",
       "baking soda           39755\n",
       "ground cinnamon       39739\n",
       "red onion             38102\n",
       "shallot               37171\n",
       "heavy cream           33035\n",
       "soy sauce             32540\n",
       "canola oil            31903\n",
       "bay leaf              30281\n",
       "wine vinegar          30056\n",
       "ground cumin          28871\n",
       "honey                 27872\n",
       "egg yolk              27848\n",
       "white wine            26923\n",
       "tomato                26890\n",
       "chicken broth         26841\n",
       "mayonnaise            24476\n",
       "lime juice            23078\n",
       "lemon                 23044\n",
       "sour cream            22752\n",
       "dijon mustard         22146\n",
       "red bell              21877\n",
       "chicken stock         21289\n",
       "whole milk            21082\n",
       "ground beef           20442\n",
       "yellow onion          20024\n",
       "fresh thyme           19451\n",
       "flour                 18879\n",
       "paprika               18784\n",
       "cornstarch            18670\n",
       "fresh ginger          18638\n",
       "cream cheese          18332\n",
       "cooking spray         17956\n",
       "Name: ingred1, dtype: int64"
      ]
     },
     "execution_count": 235,
     "metadata": {},
     "output_type": "execute_result"
    }
   ],
   "source": [
    "combinations_df.columns = ['ingred1','ingred2']\n",
    "combinations_df['ingred1'].value_counts()[:50]"
   ]
  },
  {
   "cell_type": "code",
   "execution_count": 159,
   "metadata": {},
   "outputs": [],
   "source": [
    "crossjoin = [1,2,3,4,5]"
   ]
  },
  {
   "cell_type": "code",
   "execution_count": 199,
   "metadata": {},
   "outputs": [
    {
     "data": {
      "text/html": [
       "<div>\n",
       "<style scoped>\n",
       "    .dataframe tbody tr th:only-of-type {\n",
       "        vertical-align: middle;\n",
       "    }\n",
       "\n",
       "    .dataframe tbody tr th {\n",
       "        vertical-align: top;\n",
       "    }\n",
       "\n",
       "    .dataframe thead th {\n",
       "        text-align: right;\n",
       "    }\n",
       "</style>\n",
       "<table border=\"1\" class=\"dataframe\">\n",
       "  <thead>\n",
       "    <tr style=\"text-align: right;\">\n",
       "      <th></th>\n",
       "      <th>0</th>\n",
       "      <th>1</th>\n",
       "    </tr>\n",
       "  </thead>\n",
       "  <tbody>\n",
       "    <tr>\n",
       "      <th>0</th>\n",
       "      <td>unsalted butter</td>\n",
       "      <td>creole seasoning</td>\n",
       "    </tr>\n",
       "    <tr>\n",
       "      <th>1</th>\n",
       "      <td>unsalted butter</td>\n",
       "      <td>lemon</td>\n",
       "    </tr>\n",
       "    <tr>\n",
       "      <th>2</th>\n",
       "      <td>unsalted butter</td>\n",
       "      <td>chive</td>\n",
       "    </tr>\n",
       "    <tr>\n",
       "      <th>3</th>\n",
       "      <td>unsalted butter</td>\n",
       "      <td>lemon</td>\n",
       "    </tr>\n",
       "    <tr>\n",
       "      <th>4</th>\n",
       "      <td>unsalted butter</td>\n",
       "      <td>compound butter</td>\n",
       "    </tr>\n",
       "    <tr>\n",
       "      <th>5</th>\n",
       "      <td>unsalted butter</td>\n",
       "      <td>fresh skinles</td>\n",
       "    </tr>\n",
       "    <tr>\n",
       "      <th>6</th>\n",
       "      <td>unsalted butter</td>\n",
       "      <td>creole seasoning</td>\n",
       "    </tr>\n",
       "    <tr>\n",
       "      <th>7</th>\n",
       "      <td>unsalted butter</td>\n",
       "      <td>whole chive</td>\n",
       "    </tr>\n",
       "    <tr>\n",
       "      <th>8</th>\n",
       "      <td>creole seasoning</td>\n",
       "      <td>lemon</td>\n",
       "    </tr>\n",
       "    <tr>\n",
       "      <th>9</th>\n",
       "      <td>creole seasoning</td>\n",
       "      <td>chive</td>\n",
       "    </tr>\n",
       "    <tr>\n",
       "      <th>10</th>\n",
       "      <td>creole seasoning</td>\n",
       "      <td>lemon</td>\n",
       "    </tr>\n",
       "    <tr>\n",
       "      <th>11</th>\n",
       "      <td>creole seasoning</td>\n",
       "      <td>compound butter</td>\n",
       "    </tr>\n",
       "    <tr>\n",
       "      <th>12</th>\n",
       "      <td>creole seasoning</td>\n",
       "      <td>fresh skinles</td>\n",
       "    </tr>\n",
       "    <tr>\n",
       "      <th>13</th>\n",
       "      <td>creole seasoning</td>\n",
       "      <td>creole seasoning</td>\n",
       "    </tr>\n",
       "    <tr>\n",
       "      <th>14</th>\n",
       "      <td>creole seasoning</td>\n",
       "      <td>whole chive</td>\n",
       "    </tr>\n",
       "    <tr>\n",
       "      <th>15</th>\n",
       "      <td>lemon</td>\n",
       "      <td>chive</td>\n",
       "    </tr>\n",
       "    <tr>\n",
       "      <th>16</th>\n",
       "      <td>lemon</td>\n",
       "      <td>lemon</td>\n",
       "    </tr>\n",
       "    <tr>\n",
       "      <th>17</th>\n",
       "      <td>lemon</td>\n",
       "      <td>compound butter</td>\n",
       "    </tr>\n",
       "    <tr>\n",
       "      <th>18</th>\n",
       "      <td>lemon</td>\n",
       "      <td>fresh skinles</td>\n",
       "    </tr>\n",
       "    <tr>\n",
       "      <th>19</th>\n",
       "      <td>lemon</td>\n",
       "      <td>creole seasoning</td>\n",
       "    </tr>\n",
       "    <tr>\n",
       "      <th>20</th>\n",
       "      <td>lemon</td>\n",
       "      <td>whole chive</td>\n",
       "    </tr>\n",
       "    <tr>\n",
       "      <th>21</th>\n",
       "      <td>chive</td>\n",
       "      <td>lemon</td>\n",
       "    </tr>\n",
       "    <tr>\n",
       "      <th>22</th>\n",
       "      <td>chive</td>\n",
       "      <td>compound butter</td>\n",
       "    </tr>\n",
       "    <tr>\n",
       "      <th>23</th>\n",
       "      <td>chive</td>\n",
       "      <td>fresh skinles</td>\n",
       "    </tr>\n",
       "    <tr>\n",
       "      <th>24</th>\n",
       "      <td>chive</td>\n",
       "      <td>creole seasoning</td>\n",
       "    </tr>\n",
       "    <tr>\n",
       "      <th>25</th>\n",
       "      <td>chive</td>\n",
       "      <td>whole chive</td>\n",
       "    </tr>\n",
       "    <tr>\n",
       "      <th>26</th>\n",
       "      <td>lemon</td>\n",
       "      <td>compound butter</td>\n",
       "    </tr>\n",
       "    <tr>\n",
       "      <th>27</th>\n",
       "      <td>lemon</td>\n",
       "      <td>fresh skinles</td>\n",
       "    </tr>\n",
       "    <tr>\n",
       "      <th>28</th>\n",
       "      <td>lemon</td>\n",
       "      <td>creole seasoning</td>\n",
       "    </tr>\n",
       "    <tr>\n",
       "      <th>29</th>\n",
       "      <td>lemon</td>\n",
       "      <td>whole chive</td>\n",
       "    </tr>\n",
       "    <tr>\n",
       "      <th>30</th>\n",
       "      <td>compound butter</td>\n",
       "      <td>fresh skinles</td>\n",
       "    </tr>\n",
       "    <tr>\n",
       "      <th>31</th>\n",
       "      <td>compound butter</td>\n",
       "      <td>creole seasoning</td>\n",
       "    </tr>\n",
       "    <tr>\n",
       "      <th>32</th>\n",
       "      <td>compound butter</td>\n",
       "      <td>whole chive</td>\n",
       "    </tr>\n",
       "    <tr>\n",
       "      <th>33</th>\n",
       "      <td>fresh skinles</td>\n",
       "      <td>creole seasoning</td>\n",
       "    </tr>\n",
       "    <tr>\n",
       "      <th>34</th>\n",
       "      <td>fresh skinles</td>\n",
       "      <td>whole chive</td>\n",
       "    </tr>\n",
       "    <tr>\n",
       "      <th>35</th>\n",
       "      <td>creole seasoning</td>\n",
       "      <td>whole chive</td>\n",
       "    </tr>\n",
       "  </tbody>\n",
       "</table>\n",
       "</div>"
      ],
      "text/plain": [
       "                   0                 1\n",
       "0    unsalted butter  creole seasoning\n",
       "1    unsalted butter             lemon\n",
       "2    unsalted butter             chive\n",
       "3    unsalted butter             lemon\n",
       "4    unsalted butter   compound butter\n",
       "5    unsalted butter     fresh skinles\n",
       "6    unsalted butter  creole seasoning\n",
       "7    unsalted butter       whole chive\n",
       "8   creole seasoning             lemon\n",
       "9   creole seasoning             chive\n",
       "10  creole seasoning             lemon\n",
       "11  creole seasoning   compound butter\n",
       "12  creole seasoning     fresh skinles\n",
       "13  creole seasoning  creole seasoning\n",
       "14  creole seasoning       whole chive\n",
       "15             lemon             chive\n",
       "16             lemon             lemon\n",
       "17             lemon   compound butter\n",
       "18             lemon     fresh skinles\n",
       "19             lemon  creole seasoning\n",
       "20             lemon       whole chive\n",
       "21             chive             lemon\n",
       "22             chive   compound butter\n",
       "23             chive     fresh skinles\n",
       "24             chive  creole seasoning\n",
       "25             chive       whole chive\n",
       "26             lemon   compound butter\n",
       "27             lemon     fresh skinles\n",
       "28             lemon  creole seasoning\n",
       "29             lemon       whole chive\n",
       "30   compound butter     fresh skinles\n",
       "31   compound butter  creole seasoning\n",
       "32   compound butter       whole chive\n",
       "33     fresh skinles  creole seasoning\n",
       "34     fresh skinles       whole chive\n",
       "35  creole seasoning       whole chive"
      ]
     },
     "execution_count": 199,
     "metadata": {},
     "output_type": "execute_result"
    }
   ],
   "source": [
    "pd.DataFrame(list(itertools.combinations(['unsalted butter',\n",
    " 'creole seasoning',\n",
    " 'lemon',\n",
    " 'chive',\n",
    " 'lemon',\n",
    " 'compound butter',\n",
    " 'fresh skinles',\n",
    " 'creole seasoning',\n",
    " 'whole chive'],2)))"
   ]
  },
  {
   "cell_type": "code",
   "execution_count": null,
   "metadata": {},
   "outputs": [],
   "source": []
  }
 ],
 "metadata": {
  "kernelspec": {
   "display_name": "Python 3",
   "language": "python",
   "name": "python3"
  },
  "language_info": {
   "codemirror_mode": {
    "name": "ipython",
    "version": 3
   },
   "file_extension": ".py",
   "mimetype": "text/x-python",
   "name": "python",
   "nbconvert_exporter": "python",
   "pygments_lexer": "ipython3",
   "version": "3.6.6"
  }
 },
 "nbformat": 4,
 "nbformat_minor": 2
}
