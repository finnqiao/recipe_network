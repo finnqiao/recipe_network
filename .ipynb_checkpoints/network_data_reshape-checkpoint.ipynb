{
 "cells": [
  {
   "cell_type": "code",
   "execution_count": 166,
   "metadata": {},
   "outputs": [],
   "source": [
    "import os\n",
    "import pandas as pd\n",
    "import matplotlib.pyplot as plt\n",
    "import nltk\n",
    "import json\n",
    "import re\n",
    "from bs4 import BeautifulSoup\n",
    "import requests\n",
    "%matplotlib inline"
   ]
  },
  {
   "cell_type": "code",
   "execution_count": 8,
   "metadata": {},
   "outputs": [],
   "source": [
    "# Test dataframe with only yummly data\n",
    "\n",
    "# cuisines = []\n",
    "# flavors = []\n",
    "# ingredients = []\n",
    "# name = []\n",
    "# source = []\n",
    "# for filename in os.listdir('data/metadata27638'):\n",
    "#     if filename.endswith('.json'):\n",
    "#         data = json.load(open('data/metadata27638/'+filename))\n",
    "#         cuisines.append(data['attributes']['cuisine'][0])\n",
    "#         flavors.append(data['flavors'])\n",
    "#         ingredientStr = ''\n",
    "#         for ingred in data['ingredientLines']:\n",
    "#             ingredientStr = ingredientStr + ingred\n",
    "#         ingredients.append(ingredientStr)\n",
    "#         name.append(data['name'])\n",
    "#         source.append(data['source']['sourceDisplayName'])\n",
    "        \n",
    "# df = pd.DataFrame({'cuisine':cuisines,'name':name,'flavors':flavors,'ingredients':ingredients,'source':source})"
   ]
  },
  {
   "cell_type": "code",
   "execution_count": 41,
   "metadata": {},
   "outputs": [],
   "source": [
    "# Reading in data and checking if name and ingredient lists exist\n",
    "\n",
    "names = []\n",
    "ingreds = []\n",
    "\n",
    "for filename in os.listdir('data/recipe_box'):\n",
    "    if filename.endswith('.json'):\n",
    "        data = list(json.load(open('data/recipe_box/'+filename)).values())\n",
    "        for recipe in data:\n",
    "            if ('title' not in recipe.keys() or 'ingredients' not in recipe.keys()):\n",
    "                continue\n",
    "            names.append(recipe['title'])\n",
    "            ingreds.append(recipe['ingredients'])"
   ]
  },
  {
   "cell_type": "code",
   "execution_count": 42,
   "metadata": {},
   "outputs": [],
   "source": [
    "# Creating data frame with dish names and ingredients\n",
    "\n",
    "df = pd.DataFrame({'name':names,'ingredients':ingreds})"
   ]
  },
  {
   "cell_type": "code",
   "execution_count": 45,
   "metadata": {},
   "outputs": [
    {
     "data": {
      "text/html": [
       "<div>\n",
       "<style scoped>\n",
       "    .dataframe tbody tr th:only-of-type {\n",
       "        vertical-align: middle;\n",
       "    }\n",
       "\n",
       "    .dataframe tbody tr th {\n",
       "        vertical-align: top;\n",
       "    }\n",
       "\n",
       "    .dataframe thead th {\n",
       "        text-align: right;\n",
       "    }\n",
       "</style>\n",
       "<table border=\"1\" class=\"dataframe\">\n",
       "  <thead>\n",
       "    <tr style=\"text-align: right;\">\n",
       "      <th></th>\n",
       "      <th>name</th>\n",
       "      <th>ingredients</th>\n",
       "    </tr>\n",
       "  </thead>\n",
       "  <tbody>\n",
       "    <tr>\n",
       "      <th>0</th>\n",
       "      <td>Grammie Hamblet's Deviled Crab</td>\n",
       "      <td>[1/2 cup celery, finely chopped, 1 small green...</td>\n",
       "    </tr>\n",
       "    <tr>\n",
       "      <th>1</th>\n",
       "      <td>Infineon Raceway Baked Beans</td>\n",
       "      <td>[2 pounds skirt steak, cut into 1/2-inch dice,...</td>\n",
       "    </tr>\n",
       "    <tr>\n",
       "      <th>2</th>\n",
       "      <td>Southwestern Black Bean Dip</td>\n",
       "      <td>[1 1/2 cups dried black beans, picked over and...</td>\n",
       "    </tr>\n",
       "    <tr>\n",
       "      <th>3</th>\n",
       "      <td>Sour Cream Noodle Bake</td>\n",
       "      <td>[1 1/4 pounds ground chuck, One 15-ounce can t...</td>\n",
       "    </tr>\n",
       "    <tr>\n",
       "      <th>4</th>\n",
       "      <td>Sushi Renovation</td>\n",
       "      <td>[1 cup rice, brown, medium-grain, cooked, 1/2-...</td>\n",
       "    </tr>\n",
       "  </tbody>\n",
       "</table>\n",
       "</div>"
      ],
      "text/plain": [
       "                             name  \\\n",
       "0  Grammie Hamblet's Deviled Crab   \n",
       "1    Infineon Raceway Baked Beans   \n",
       "2     Southwestern Black Bean Dip   \n",
       "3          Sour Cream Noodle Bake   \n",
       "4                Sushi Renovation   \n",
       "\n",
       "                                         ingredients  \n",
       "0  [1/2 cup celery, finely chopped, 1 small green...  \n",
       "1  [2 pounds skirt steak, cut into 1/2-inch dice,...  \n",
       "2  [1 1/2 cups dried black beans, picked over and...  \n",
       "3  [1 1/4 pounds ground chuck, One 15-ounce can t...  \n",
       "4  [1 cup rice, brown, medium-grain, cooked, 1/2-...  "
      ]
     },
     "execution_count": 45,
     "metadata": {},
     "output_type": "execute_result"
    }
   ],
   "source": [
    "df.head()"
   ]
  },
  {
   "cell_type": "code",
   "execution_count": 47,
   "metadata": {
    "scrolled": true
   },
   "outputs": [
    {
     "data": {
      "text/plain": [
       "['3 to 4 cups chicken stock, preferably homemade, recipe follows',\n",
       " '1 quart Roasted Winter Vegetables, recipe follows',\n",
       " 'Kosher salt and freshly ground black pepper',\n",
       " '3 (5-pound) roasting chickens',\n",
       " '3 large yellow onions, unpeeled, quartered',\n",
       " '6 carrots, unpeeled, halved',\n",
       " '4 celery stalks with leaves, cut in thirds',\n",
       " '4 parsnips, unpeeled, cut in 1/2, optional',\n",
       " '20 sprigs fresh parsley',\n",
       " '15 sprigs fresh thyme',\n",
       " '20 sprigs fresh dill',\n",
       " '1 head garlic, unpeeled, cut in 1/2 crosswise',\n",
       " '2 tablespoons kosher salt',\n",
       " '2 teaspoons whole black peppercorns',\n",
       " '1 pound carrots, peeled',\n",
       " '1 pound parsnips, peeled',\n",
       " '1 large sweet potato, peeled',\n",
       " '1 small butternut squash (about 2 pounds), peeled and seeded',\n",
       " '3 tablespoons good olive oil',\n",
       " '1 1/2 teaspoons kosher salt',\n",
       " '1/2 teaspoon freshly ground black pepper',\n",
       " '2 tablespoons chopped fresh flat-leaf parsley']"
      ]
     },
     "execution_count": 47,
     "metadata": {},
     "output_type": "execute_result"
    }
   ],
   "source": [
    "# Example of ingredient list\n",
    "\n",
    "df['ingredients'][10]"
   ]
  },
  {
   "cell_type": "code",
   "execution_count": 48,
   "metadata": {},
   "outputs": [
    {
     "data": {
      "text/plain": [
       "['1/2 small head green cabbage, cored and thinly sliced ADVERTISEMENT',\n",
       " '1/2 jicama, sliced into matchsticks ADVERTISEMENT',\n",
       " '1 large sweet apple (such as Fuji), sliced into matchsticks ADVERTISEMENT',\n",
       " '1/2 cup mayonnaise ADVERTISEMENT',\n",
       " '1/4 cup pineapple juice ADVERTISEMENT',\n",
       " '1 teaspoon white sugar ADVERTISEMENT',\n",
       " 'hot sauce to taste ADVERTISEMENT',\n",
       " 'salt and freshly ground black pepper to taste ADVERTISEMENT',\n",
       " '1/4 bunch chopped fresh cilantro ADVERTISEMENT',\n",
       " '1/3 ounce toasted corn bits (such as CornNuts ®), crushed ADVERTISEMENT',\n",
       " 'ADVERTISEMENT']"
      ]
     },
     "execution_count": 48,
     "metadata": {},
     "output_type": "execute_result"
    }
   ],
   "source": [
    "# Example of ingredient list with ADVERTISEMENT tags\n",
    "\n",
    "df['ingredients'][100000]"
   ]
  },
  {
   "cell_type": "code",
   "execution_count": 122,
   "metadata": {},
   "outputs": [
    {
     "data": {
      "text/plain": [
       "['1/2 small head green cabbage, cored and thinly sliced ADVERTISEMENT',\n",
       " '1/2 jicama, sliced into matchsticks ADVERTISEMENT',\n",
       " '1 large sweet apple (such as Fuji), sliced into matchsticks ADVERTISEMENT',\n",
       " '1/2 cup mayonnaise ADVERTISEMENT',\n",
       " '1/4 cup pineapple juice ADVERTISEMENT',\n",
       " '1 teaspoon white sugar ADVERTISEMENT',\n",
       " 'hot sauce to taste ADVERTISEMENT',\n",
       " 'salt and freshly ground black pepper to taste ADVERTISEMENT',\n",
       " '1/4 bunch chopped fresh cilantro ADVERTISEMENT',\n",
       " '1/3 ounce toasted corn bits (such as CornNuts ®), crushed ADVERTISEMENT',\n",
       " 'ADVERTISEMENT']"
      ]
     },
     "execution_count": 122,
     "metadata": {},
     "output_type": "execute_result"
    }
   ],
   "source": [
    "testlist = df['ingredients'][100000]\n",
    "testlist"
   ]
  },
  {
   "cell_type": "code",
   "execution_count": 190,
   "metadata": {},
   "outputs": [],
   "source": [
    "def clean_recipe(ingred_list):\n",
    "    cleanedtest = []\n",
    "    for ingred in ingred_list:\n",
    "        # Ignore extra information\n",
    "        matchtext = re.sub(r' \\([^)]*\\)', '', ingred)\n",
    "        \n",
    "        # Obtain all before first comma\n",
    "        if re.compile('^(.+?)(?=,)').search(matchtext) is not None:\n",
    "            matchtext = re.compile('^(.+?)(?=,)').search(matchtext).group(1)\n",
    "            matchtext = matchtext.replace(' ADVERTISEMENT','')\n",
    "            cleanedtest.append(matchtext)\n",
    "            \n",
    "        # Ignore advertisement tag\n",
    "        \n",
    "        elif (ingred == 'ADVERTISEMENT'):\n",
    "            continue\n",
    "        \n",
    "        # If all text, make sure no advertisement tag\n",
    "        else:\n",
    "            matchtext = matchtext.replace(' ADVERTISEMENT','')\n",
    "            cleanedtest.append(matchtext)\n",
    "    return cleanedtest"
   ]
  },
  {
   "cell_type": "code",
   "execution_count": 191,
   "metadata": {},
   "outputs": [
    {
     "data": {
      "text/plain": [
       "['1/2 small head green cabbage',\n",
       " '1/2 jicama',\n",
       " '1 large sweet apple',\n",
       " '1/2 cup mayonnaise',\n",
       " '1/4 cup pineapple juice',\n",
       " '1 teaspoon white sugar',\n",
       " 'hot sauce to taste',\n",
       " 'salt and freshly ground black pepper to taste',\n",
       " '1/4 bunch chopped fresh cilantro',\n",
       " '1/3 ounce toasted corn bits']"
      ]
     },
     "execution_count": 191,
     "metadata": {},
     "output_type": "execute_result"
    }
   ],
   "source": [
    "clean_recipe(df['ingredients'][100000])"
   ]
  },
  {
   "cell_type": "code",
   "execution_count": 155,
   "metadata": {},
   "outputs": [],
   "source": [
    "#regex test\n",
    "# re.compile('(?<=\\d )(?!.*\\d)(.+?)(?=[^a-zA-Z ])').search('1 large sweet apple (such as Fuji), sliced into matchsticks ADVERTISEMENT').group(1)"
   ]
  },
  {
   "cell_type": "code",
   "execution_count": 188,
   "metadata": {},
   "outputs": [],
   "source": [
    "# Scraping corpus of words related to measurements\n",
    "\n",
    "page = requests.get('https://www.enchantedlearning.com/wordlist/measurement.shtml')\n",
    "soup = BeautifulSoup(page.content, \"html.parser\")\n",
    "measure_corpus = [tag.text for tag in soup.find_all('div',attrs={'class':'wordlist-item'})]"
   ]
  },
  {
   "cell_type": "code",
   "execution_count": 189,
   "metadata": {},
   "outputs": [
    {
     "data": {
      "text/plain": [
       "['acre',\n",
       " 'angstrom',\n",
       " 'area',\n",
       " \"baker's dozen\",\n",
       " 'bale',\n",
       " 'barrel',\n",
       " 'bit',\n",
       " 'bolt',\n",
       " 'breadth',\n",
       " 'bulk',\n",
       " 'bushel',\n",
       " 'byte',\n",
       " 'carat',\n",
       " 'case',\n",
       " 'centimeter',\n",
       " 'cord',\n",
       " 'cord foot',\n",
       " 'cubic',\n",
       " 'cubic centimeter',\n",
       " 'cubic inch',\n",
       " 'cubic meter',\n",
       " 'cubic mile',\n",
       " 'cubic yard',\n",
       " 'cubit',\n",
       " 'cup',\n",
       " 'dash',\n",
       " 'decigram',\n",
       " 'deciliter',\n",
       " 'decimal',\n",
       " 'decimeter',\n",
       " 'degree',\n",
       " 'depth',\n",
       " 'digit',\n",
       " 'dozen',\n",
       " 'dram',\n",
       " 'drop',\n",
       " 'dry gallon',\n",
       " 'dry quart',\n",
       " 'em',\n",
       " 'en',\n",
       " 'fathom',\n",
       " 'feet',\n",
       " 'fermi',\n",
       " 'fluid ounce',\n",
       " 'folio',\n",
       " 'foot',\n",
       " 'furlong',\n",
       " 'gallon',\n",
       " 'gauge',\n",
       " 'gill',\n",
       " 'grain',\n",
       " 'gram',\n",
       " 'grit',\n",
       " 'gross',\n",
       " 'gross ton',\n",
       " 'hand',\n",
       " 'hectare',\n",
       " 'height',\n",
       " 'hundredweight',\n",
       " 'inch',\n",
       " 'jerib',\n",
       " 'karat',\n",
       " 'kilo',\n",
       " 'kilogram',\n",
       " 'kilometer',\n",
       " 'knot',\n",
       " 'league',\n",
       " 'length',\n",
       " 'light-second',\n",
       " 'light-year',\n",
       " 'liquid ounce',\n",
       " 'liter',\n",
       " 'mass',\n",
       " 'measure',\n",
       " 'megameter',\n",
       " 'megaparsec',\n",
       " 'megapixel',\n",
       " 'megaton',\n",
       " 'meter',\n",
       " 'metric system',\n",
       " 'microgram',\n",
       " 'microliter',\n",
       " 'micron',\n",
       " 'mile',\n",
       " 'milligram',\n",
       " 'milliliter',\n",
       " 'millimeter',\n",
       " 'minute',\n",
       " 'mole',\n",
       " 'nanometer',\n",
       " 'nautical mile',\n",
       " 'nose',\n",
       " 'octad',\n",
       " 'octant',\n",
       " 'octave',\n",
       " 'order of magnitude',\n",
       " 'ounce',\n",
       " 'palm',\n",
       " 'parsec',\n",
       " 'peck',\n",
       " 'pennyweight',\n",
       " 'percent',\n",
       " 'percentile',\n",
       " 'picogram',\n",
       " 'picoliter',\n",
       " 'picometer',\n",
       " 'pinch',\n",
       " 'pint',\n",
       " 'pixel',\n",
       " 'pound',\n",
       " 'quadrant',\n",
       " 'quantity',\n",
       " 'quart',\n",
       " 'quarter',\n",
       " 'quartile',\n",
       " 'radian',\n",
       " 'ream',\n",
       " 'rod',\n",
       " 'ruler',\n",
       " 'sack',\n",
       " 'scale',\n",
       " 'score',\n",
       " 'sheaf',\n",
       " 'skein',\n",
       " 'smidgen',\n",
       " 'smoot',\n",
       " 'spoon',\n",
       " 'spoonful',\n",
       " 'square',\n",
       " 'square centimeter',\n",
       " 'square foot',\n",
       " 'square inch',\n",
       " 'square kilometer',\n",
       " 'square mile',\n",
       " 'square yard',\n",
       " 'stade',\n",
       " 'standard',\n",
       " 'stone',\n",
       " 'tablespoon',\n",
       " 'teaspoon',\n",
       " 'thermometer',\n",
       " 'ton',\n",
       " 'tonne',\n",
       " 'troy ounce',\n",
       " 'troy pound',\n",
       " 'troy weight',\n",
       " 'unit',\n",
       " 'volume',\n",
       " 'weigh',\n",
       " 'weight',\n",
       " 'width',\n",
       " 'yard',\n",
       " 'yardstick',\n",
       " 'Zoll']"
      ]
     },
     "execution_count": 189,
     "metadata": {},
     "output_type": "execute_result"
    }
   ],
   "source": [
    "measure_corpus"
   ]
  },
  {
   "cell_type": "code",
   "execution_count": null,
   "metadata": {},
   "outputs": [],
   "source": []
  },
  {
   "cell_type": "code",
   "execution_count": null,
   "metadata": {},
   "outputs": [],
   "source": []
  },
  {
   "cell_type": "code",
   "execution_count": null,
   "metadata": {},
   "outputs": [],
   "source": []
  }
 ],
 "metadata": {
  "kernelspec": {
   "display_name": "Python 3",
   "language": "python",
   "name": "python3"
  },
  "language_info": {
   "codemirror_mode": {
    "name": "ipython",
    "version": 3
   },
   "file_extension": ".py",
   "mimetype": "text/x-python",
   "name": "python",
   "nbconvert_exporter": "python",
   "pygments_lexer": "ipython3",
   "version": "3.6.6"
  }
 },
 "nbformat": 4,
 "nbformat_minor": 2
}
