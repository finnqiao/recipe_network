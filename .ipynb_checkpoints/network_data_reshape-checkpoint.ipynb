{
 "cells": [
  {
   "cell_type": "code",
   "execution_count": 5,
   "metadata": {},
   "outputs": [],
   "source": [
    "import os\n",
    "import pandas as pd\n",
    "import matplotlib.pyplot as plt\n",
    "import nltk\n",
    "import json\n",
    "%matplotlib inline"
   ]
  },
  {
   "cell_type": "code",
   "execution_count": 8,
   "metadata": {},
   "outputs": [],
   "source": [
    "# Test dataframe with only yummly data\n",
    "\n",
    "# cuisines = []\n",
    "# flavors = []\n",
    "# ingredients = []\n",
    "# name = []\n",
    "# source = []\n",
    "# for filename in os.listdir('data/metadata27638'):\n",
    "#     if filename.endswith('.json'):\n",
    "#         data = json.load(open('data/metadata27638/'+filename))\n",
    "#         cuisines.append(data['attributes']['cuisine'][0])\n",
    "#         flavors.append(data['flavors'])\n",
    "#         ingredientStr = ''\n",
    "#         for ingred in data['ingredientLines']:\n",
    "#             ingredientStr = ingredientStr + ingred\n",
    "#         ingredients.append(ingredientStr)\n",
    "#         name.append(data['name'])\n",
    "#         source.append(data['source']['sourceDisplayName'])\n",
    "        \n",
    "# df = pd.DataFrame({'cuisine':cuisines,'name':name,'flavors':flavors,'ingredients':ingredients,'source':source})"
   ]
  },
  {
   "cell_type": "code",
   "execution_count": 41,
   "metadata": {},
   "outputs": [],
   "source": [
    "names = []\n",
    "ingreds = []\n",
    "\n",
    "for filename in os.listdir('data/recipe_box'):\n",
    "    if filename.endswith('.json'):\n",
    "        data = list(json.load(open('data/recipe_box/'+filename)).values())\n",
    "        for recipe in data:\n",
    "            if ('title' not in recipe.keys() or 'ingredients' not in recipe.keys()):\n",
    "                continue\n",
    "            names.append(recipe['title'])\n",
    "            ingreds.append(recipe['ingredients'])"
   ]
  },
  {
   "cell_type": "code",
   "execution_count": 42,
   "metadata": {},
   "outputs": [],
   "source": [
    "df = pd.DataFrame({'name':names,'ingredients':ingreds})"
   ]
  },
  {
   "cell_type": "code",
   "execution_count": 45,
   "metadata": {},
   "outputs": [
    {
     "data": {
      "text/html": [
       "<div>\n",
       "<style scoped>\n",
       "    .dataframe tbody tr th:only-of-type {\n",
       "        vertical-align: middle;\n",
       "    }\n",
       "\n",
       "    .dataframe tbody tr th {\n",
       "        vertical-align: top;\n",
       "    }\n",
       "\n",
       "    .dataframe thead th {\n",
       "        text-align: right;\n",
       "    }\n",
       "</style>\n",
       "<table border=\"1\" class=\"dataframe\">\n",
       "  <thead>\n",
       "    <tr style=\"text-align: right;\">\n",
       "      <th></th>\n",
       "      <th>name</th>\n",
       "      <th>ingredients</th>\n",
       "    </tr>\n",
       "  </thead>\n",
       "  <tbody>\n",
       "    <tr>\n",
       "      <th>0</th>\n",
       "      <td>Grammie Hamblet's Deviled Crab</td>\n",
       "      <td>[1/2 cup celery, finely chopped, 1 small green...</td>\n",
       "    </tr>\n",
       "    <tr>\n",
       "      <th>1</th>\n",
       "      <td>Infineon Raceway Baked Beans</td>\n",
       "      <td>[2 pounds skirt steak, cut into 1/2-inch dice,...</td>\n",
       "    </tr>\n",
       "    <tr>\n",
       "      <th>2</th>\n",
       "      <td>Southwestern Black Bean Dip</td>\n",
       "      <td>[1 1/2 cups dried black beans, picked over and...</td>\n",
       "    </tr>\n",
       "    <tr>\n",
       "      <th>3</th>\n",
       "      <td>Sour Cream Noodle Bake</td>\n",
       "      <td>[1 1/4 pounds ground chuck, One 15-ounce can t...</td>\n",
       "    </tr>\n",
       "    <tr>\n",
       "      <th>4</th>\n",
       "      <td>Sushi Renovation</td>\n",
       "      <td>[1 cup rice, brown, medium-grain, cooked, 1/2-...</td>\n",
       "    </tr>\n",
       "  </tbody>\n",
       "</table>\n",
       "</div>"
      ],
      "text/plain": [
       "                             name  \\\n",
       "0  Grammie Hamblet's Deviled Crab   \n",
       "1    Infineon Raceway Baked Beans   \n",
       "2     Southwestern Black Bean Dip   \n",
       "3          Sour Cream Noodle Bake   \n",
       "4                Sushi Renovation   \n",
       "\n",
       "                                         ingredients  \n",
       "0  [1/2 cup celery, finely chopped, 1 small green...  \n",
       "1  [2 pounds skirt steak, cut into 1/2-inch dice,...  \n",
       "2  [1 1/2 cups dried black beans, picked over and...  \n",
       "3  [1 1/4 pounds ground chuck, One 15-ounce can t...  \n",
       "4  [1 cup rice, brown, medium-grain, cooked, 1/2-...  "
      ]
     },
     "execution_count": 45,
     "metadata": {},
     "output_type": "execute_result"
    }
   ],
   "source": [
    "df.head()"
   ]
  },
  {
   "cell_type": "code",
   "execution_count": null,
   "metadata": {},
   "outputs": [],
   "source": []
  },
  {
   "cell_type": "code",
   "execution_count": null,
   "metadata": {},
   "outputs": [],
   "source": []
  }
 ],
 "metadata": {
  "kernelspec": {
   "display_name": "Python 3",
   "language": "python",
   "name": "python3"
  },
  "language_info": {
   "codemirror_mode": {
    "name": "ipython",
    "version": 3
   },
   "file_extension": ".py",
   "mimetype": "text/x-python",
   "name": "python",
   "nbconvert_exporter": "python",
   "pygments_lexer": "ipython3",
   "version": "3.6.6"
  }
 },
 "nbformat": 4,
 "nbformat_minor": 2
}
