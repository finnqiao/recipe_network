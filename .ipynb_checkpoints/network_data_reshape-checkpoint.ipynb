{
 "cells": [
  {
   "cell_type": "code",
   "execution_count": 160,
   "metadata": {},
   "outputs": [],
   "source": [
    "import os\n",
    "import pandas as pd\n",
    "import matplotlib.pyplot as plt\n",
    "from nltk.corpus import stopwords \n",
    "from nltk.tokenize import word_tokenize \n",
    "from nltk import pos_tag\n",
    "from nltk import PorterStemmer\n",
    "import json\n",
    "import re\n",
    "from bs4 import BeautifulSoup\n",
    "import requests\n",
    "import inflect\n",
    "import itertools\n",
    "p = inflect.engine()\n",
    "%matplotlib inline\n",
    "\n",
    "stop_words = set(stopwords.words('english'))"
   ]
  },
  {
   "cell_type": "code",
   "execution_count": 2,
   "metadata": {},
   "outputs": [],
   "source": [
    "# Test dataframe with only yummly data\n",
    "\n",
    "# cuisines = []\n",
    "# flavors = []\n",
    "# ingredients = []\n",
    "# name = []\n",
    "# source = []\n",
    "# for filename in os.listdir('data/metadata27638'):\n",
    "#     if filename.endswith('.json'):\n",
    "#         data = json.load(open('data/metadata27638/'+filename))\n",
    "#         cuisines.append(data['attributes']['cuisine'][0])\n",
    "#         flavors.append(data['flavors'])\n",
    "#         ingredientStr = ''\n",
    "#         for ingred in data['ingredientLines']:\n",
    "#             ingredientStr = ingredientStr + ingred\n",
    "#         ingredients.append(ingredientStr)\n",
    "#         name.append(data['name'])\n",
    "#         source.append(data['source']['sourceDisplayName'])\n",
    "        \n",
    "# df = pd.DataFrame({'cuisine':cuisines,'name':name,'flavors':flavors,'ingredients':ingredients,'source':source})"
   ]
  },
  {
   "cell_type": "code",
   "execution_count": 3,
   "metadata": {},
   "outputs": [],
   "source": [
    "# Reading in data and checking if name and ingredient lists exist\n",
    "\n",
    "names = []\n",
    "ingreds = []\n",
    "\n",
    "for filename in os.listdir('data/recipe_box'):\n",
    "    if filename.endswith('.json'):\n",
    "        data = list(json.load(open('data/recipe_box/'+filename)).values())\n",
    "        for recipe in data:\n",
    "            if ('title' not in recipe.keys() or 'ingredients' not in recipe.keys()):\n",
    "                continue\n",
    "            names.append(recipe['title'])\n",
    "            ingreds.append(recipe['ingredients'])"
   ]
  },
  {
   "cell_type": "code",
   "execution_count": 130,
   "metadata": {},
   "outputs": [],
   "source": [
    "# Creating data frame with dish names and ingredients\n",
    "\n",
    "df = pd.DataFrame({'name':names,'ingredients':ingreds})"
   ]
  },
  {
   "cell_type": "code",
   "execution_count": 131,
   "metadata": {},
   "outputs": [
    {
     "data": {
      "text/plain": [
       "(124647, 2)"
      ]
     },
     "execution_count": 131,
     "metadata": {},
     "output_type": "execute_result"
    }
   ],
   "source": [
    "df.shape"
   ]
  },
  {
   "cell_type": "code",
   "execution_count": 138,
   "metadata": {},
   "outputs": [
    {
     "data": {
      "text/plain": [
       "(122971, 2)"
      ]
     },
     "execution_count": 138,
     "metadata": {},
     "output_type": "execute_result"
    }
   ],
   "source": [
    "# Remove empty ingredient lists\n",
    "\n",
    "df = df[df.astype('str')['ingredients']!='[]']\n",
    "df.shape"
   ]
  },
  {
   "cell_type": "code",
   "execution_count": 6,
   "metadata": {
    "scrolled": true
   },
   "outputs": [
    {
     "data": {
      "text/plain": [
       "['3 to 4 cups chicken stock, preferably homemade, recipe follows',\n",
       " '1 quart Roasted Winter Vegetables, recipe follows',\n",
       " 'Kosher salt and freshly ground black pepper',\n",
       " '3 (5-pound) roasting chickens',\n",
       " '3 large yellow onions, unpeeled, quartered',\n",
       " '6 carrots, unpeeled, halved',\n",
       " '4 celery stalks with leaves, cut in thirds',\n",
       " '4 parsnips, unpeeled, cut in 1/2, optional',\n",
       " '20 sprigs fresh parsley',\n",
       " '15 sprigs fresh thyme',\n",
       " '20 sprigs fresh dill',\n",
       " '1 head garlic, unpeeled, cut in 1/2 crosswise',\n",
       " '2 tablespoons kosher salt',\n",
       " '2 teaspoons whole black peppercorns',\n",
       " '1 pound carrots, peeled',\n",
       " '1 pound parsnips, peeled',\n",
       " '1 large sweet potato, peeled',\n",
       " '1 small butternut squash (about 2 pounds), peeled and seeded',\n",
       " '3 tablespoons good olive oil',\n",
       " '1 1/2 teaspoons kosher salt',\n",
       " '1/2 teaspoon freshly ground black pepper',\n",
       " '2 tablespoons chopped fresh flat-leaf parsley']"
      ]
     },
     "execution_count": 6,
     "metadata": {},
     "output_type": "execute_result"
    }
   ],
   "source": [
    "# Example of ingredient list\n",
    "\n",
    "df['ingredients'][10]"
   ]
  },
  {
   "cell_type": "code",
   "execution_count": 139,
   "metadata": {},
   "outputs": [
    {
     "data": {
      "text/plain": [
       "['1/2 small head green cabbage, cored and thinly sliced ADVERTISEMENT',\n",
       " '1/2 jicama, sliced into matchsticks ADVERTISEMENT',\n",
       " '1 large sweet apple (such as Fuji), sliced into matchsticks ADVERTISEMENT',\n",
       " '1/2 cup mayonnaise ADVERTISEMENT',\n",
       " '1/4 cup pineapple juice ADVERTISEMENT',\n",
       " '1 teaspoon white sugar ADVERTISEMENT',\n",
       " 'hot sauce to taste ADVERTISEMENT',\n",
       " 'salt and freshly ground black pepper to taste ADVERTISEMENT',\n",
       " '1/4 bunch chopped fresh cilantro ADVERTISEMENT',\n",
       " '1/3 ounce toasted corn bits (such as CornNuts ®), crushed ADVERTISEMENT',\n",
       " 'ADVERTISEMENT']"
      ]
     },
     "execution_count": 139,
     "metadata": {},
     "output_type": "execute_result"
    }
   ],
   "source": [
    "# Example of ingredient list with ADVERTISEMENT tags\n",
    "\n",
    "df['ingredients'][100000]"
   ]
  },
  {
   "cell_type": "code",
   "execution_count": 176,
   "metadata": {},
   "outputs": [
    {
     "data": {
      "text/plain": [
       "['1/2 small head green cabbage, cored and thinly sliced ADVERTISEMENT',\n",
       " '1/2 jicama, sliced into matchsticks ADVERTISEMENT',\n",
       " '1 large sweet apple (such as Fuji), sliced into matchsticks ADVERTISEMENT',\n",
       " '1/2 cup mayonnaise ADVERTISEMENT',\n",
       " '1/4 cup pineapple juice ADVERTISEMENT',\n",
       " '1 teaspoon white sugar ADVERTISEMENT',\n",
       " 'hot sauce to taste ADVERTISEMENT',\n",
       " 'salt and freshly ground black pepper to taste ADVERTISEMENT',\n",
       " '1/4 bunch chopped fresh cilantro ADVERTISEMENT',\n",
       " '1/3 ounce toasted corn bits (such as CornNuts ®), crushed ADVERTISEMENT',\n",
       " 'ADVERTISEMENT']"
      ]
     },
     "execution_count": 176,
     "metadata": {},
     "output_type": "execute_result"
    }
   ],
   "source": [
    "testlist = df['ingredients'][100000]\n",
    "testlist"
   ]
  },
  {
   "cell_type": "code",
   "execution_count": 177,
   "metadata": {},
   "outputs": [],
   "source": [
    "# Scraping corpus of words related to measurements\n",
    "\n",
    "page = requests.get('https://www.enchantedlearning.com/wordlist/measurement.shtml')\n",
    "soup = BeautifulSoup(page.content, \"html.parser\")\n",
    "measure_corpus = [tag.text for tag in soup.find_all('div',attrs={'class':'wordlist-item'})]\n",
    "measure_corpus = measure_corpus + [text+'s' for text in measure_corpus] + ['taste','strip', 'strips', 'package' + 'packages' + 'satchet' + 'satchets' + 'sprigs','head','bunch','small','large','big','medium']"
   ]
  },
  {
   "cell_type": "code",
   "execution_count": 188,
   "metadata": {},
   "outputs": [],
   "source": [
    "def clean_recipe(ingred_list):\n",
    "    cleanedtext = []\n",
    "    for ingred in ingred_list:\n",
    "        # Ignore extra information\n",
    "        matchtext = re.sub(r' \\([^)]*\\)', '', ingred)\n",
    "        \n",
    "        # Obtain all before first comma\n",
    "        if re.compile('^(.+?)(?=,)').search(matchtext) is not None:\n",
    "            matchtext = re.compile('^(.+?)(?=,)').search(matchtext).group(1)\n",
    "            matchtext = matchtext.replace(' ADVERTISEMENT','')\n",
    "            \n",
    "        # Ignore advertisement tag\n",
    "        elif (ingred == 'ADVERTISEMENT'):\n",
    "            continue\n",
    "        \n",
    "        # If all text, make sure no advertisement tag\n",
    "        else:\n",
    "            matchtext = matchtext.replace(' ADVERTISEMENT','')\n",
    "        \n",
    "        # Tokenize ingredient list\n",
    "        tokenized = word_tokenize(matchtext)\n",
    "        \n",
    "        # Remove words likely to be stop words or measurements\n",
    "        removed_stop = [w for w in tokenized if not w in measure_corpus]\n",
    "        removed_stop = [w for w in removed_stop if not w in stop_words]\n",
    "        \n",
    "        # Filter adjectives and nouns\n",
    "        ingred_words = lambda pos: pos[:2] in ['JJ','NN','NNS']\n",
    "        ingreds = [word.lower() for (word, pos) in pos_tag(removed_stop) if ingred_words(pos)]\n",
    "        \n",
    "        # Convert to singular\n",
    "        ingreds = [p.singular_noun(word) if p.singular_noun(word) else word for word in ingreds]\n",
    "        \n",
    "        # Remove common ingredients \n",
    "        common = ['water','salt','pepper']\n",
    "        cleanedtext.append(ingreds)\n",
    "        cleanedtext = [[ing for ing in ingreds if not any(word in common for word in ingreds)] for ingreds in cleanedtext]\n",
    "        \n",
    "        # Remove additional descriptors for long ingredient names\n",
    "        cleanedtext = [ingreds[-2:] if len(ingreds) > 2 else ingreds for ingreds in cleanedtext]\n",
    "   \n",
    "    return [(' ').join(item) for item in cleanedtext if len(item)>0]\n",
    "        \n",
    "#     return cleanedtext\n",
    "\n",
    "# test_lst = [['unsalted', 'butter'],\n",
    "#  ['all-purpose', 'flour'],\n",
    "#  ['whole', 'milk'],\n",
    "#  ['monterey', 'jack', 'cheese'],\n",
    "#  ['poblano', 'chile'],\n",
    "#  ['salt', 'black', 'pepper'],\n",
    "#  ['cilantro', 'leaf'],\n",
    "#  ['dijon', 'mustard'],\n",
    "#  ['whole-grain', 'mustard'],\n",
    "#  ['honey'],\n",
    "#  ['warm', 'water'],\n",
    "#  ['light', 'brown', 'muscovado', 'sugar'],\n",
    "#  ['package', 'active', 'dry', 'yeast'],\n",
    "#  ['unsalted', 'butter'],\n",
    "#  ['kosher', 'salt'],\n",
    "#  ['all-purpose', 'flour'],\n",
    "#  ['vegetable', 'oil'],\n",
    "#  ['water'],\n",
    "#  ['baking', 'soda'],\n",
    "#  ['whole', 'egg'],\n",
    "#  ['coarse', 'sea', 'salt']]\n",
    "# common = ['water','salt','pepper']\n",
    "# common_filter = lambda lst: any(word in common for word in lst)\n",
    "\n",
    "# test2 = [[ing for ing in ingreds if not any(word in common for word in ingreds)] for ingreds in test_lst]\n",
    "# [(' ').join(item) for item in test2 if len(item)>0]\n",
    "\n",
    "# [ingred for ingred in test_lst if not any(word in common for word in test_lst)]"
   ]
  },
  {
   "cell_type": "code",
   "execution_count": 192,
   "metadata": {},
   "outputs": [
    {
     "data": {
      "text/plain": [
       "['cooking spray',\n",
       " 'bread crumb',\n",
       " 'olive oil',\n",
       " 'turkey chicken',\n",
       " 'pasta',\n",
       " 'parmesan',\n",
       " 'white cheddar',\n",
       " 'cherry tomato',\n",
       " 'broccoli',\n",
       " 'asparagu']"
      ]
     },
     "execution_count": 192,
     "metadata": {},
     "output_type": "execute_result"
    }
   ],
   "source": [
    "clean_recipe(df['ingredients'][3420])"
   ]
  },
  {
   "cell_type": "code",
   "execution_count": 180,
   "metadata": {},
   "outputs": [],
   "source": [
    "#regex test\n",
    "# re.compile('(?<=\\d )(?!.*\\d)(.+?)(?=[^a-zA-Z ])').search('1 large sweet apple (such as Fuji), sliced into matchsticks ADVERTISEMENT').group(1)"
   ]
  },
  {
   "cell_type": "code",
   "execution_count": 182,
   "metadata": {},
   "outputs": [
    {
     "data": {
      "text/plain": [
       "['3 tablespoons finely chopped red onions',\n",
       " '2 tablespoons fresh cilantro, finely chopped',\n",
       " '1 tablespoon olive oil',\n",
       " '3 plum tomatoes, seeded and finely diced',\n",
       " 'One 15-ounce can black beans, drained, rinsed well anddrained again',\n",
       " '1 serrano chile, finely diced',\n",
       " 'Juice of 1 lime',\n",
       " 'Salt and freshly ground black pepper',\n",
       " '1 tablespoon fresh lime juice',\n",
       " '3 large egg yolks, lightly beaten',\n",
       " '1 1/2 sticks unsalted butter, melted until foamy',\n",
       " \"1/4 cup to 1/2 cup your favorite steak sauce, such as Bobby Flay's Mesa Steak Sauce\",\n",
       " '1 teaspoon kosher salt',\n",
       " '1/4 teaspoon freshly ground black pepper',\n",
       " '2 cloves garlic, smashed to a paste',\n",
       " '1 stick unsalted butter, softened',\n",
       " 'Salt and freshly ground black pepper',\n",
       " '4 slices pain de mie, sliced 1-inch thick',\n",
       " 'One 1-pound boneless ribeye, about 1 1/2 inches thick, cut into eight 1/2-inch-thick slices',\n",
       " \"3 tablespoons spice rub, such as Bobby Flay's Steak Rub for Beef and Pork\",\n",
       " 'Kosher salt and freshly ground black pepper',\n",
       " '2 tablespoons canola oil',\n",
       " '1 tablespoon white wine vinegar',\n",
       " '4 eggs',\n",
       " 'Kosher salt and freshly ground black pepper',\n",
       " 'Whole fresh cilantro leaves, for garnish']"
      ]
     },
     "execution_count": 182,
     "metadata": {},
     "output_type": "execute_result"
    }
   ],
   "source": [
    "df['ingredients'][3440]"
   ]
  },
  {
   "cell_type": "code",
   "execution_count": null,
   "metadata": {},
   "outputs": [],
   "source": []
  },
  {
   "cell_type": "code",
   "execution_count": null,
   "metadata": {},
   "outputs": [],
   "source": []
  },
  {
   "cell_type": "code",
   "execution_count": null,
   "metadata": {},
   "outputs": [],
   "source": []
  },
  {
   "cell_type": "code",
   "execution_count": null,
   "metadata": {},
   "outputs": [],
   "source": []
  },
  {
   "cell_type": "code",
   "execution_count": null,
   "metadata": {},
   "outputs": [],
   "source": []
  },
  {
   "cell_type": "code",
   "execution_count": 159,
   "metadata": {},
   "outputs": [],
   "source": [
    "crossjoin = [1,2,3,4,5]"
   ]
  },
  {
   "cell_type": "code",
   "execution_count": 163,
   "metadata": {},
   "outputs": [
    {
     "data": {
      "text/plain": [
       "[('unsalted butter', 'creole seasoning'),\n",
       " ('unsalted butter', 'lemon'),\n",
       " ('unsalted butter', 'chive'),\n",
       " ('unsalted butter', 'lemon'),\n",
       " ('unsalted butter', 'compound butter'),\n",
       " ('unsalted butter', 'fresh skinles'),\n",
       " ('unsalted butter', 'creole seasoning'),\n",
       " ('unsalted butter', 'whole chive'),\n",
       " ('creole seasoning', 'lemon'),\n",
       " ('creole seasoning', 'chive'),\n",
       " ('creole seasoning', 'lemon'),\n",
       " ('creole seasoning', 'compound butter'),\n",
       " ('creole seasoning', 'fresh skinles'),\n",
       " ('creole seasoning', 'creole seasoning'),\n",
       " ('creole seasoning', 'whole chive'),\n",
       " ('lemon', 'chive'),\n",
       " ('lemon', 'lemon'),\n",
       " ('lemon', 'compound butter'),\n",
       " ('lemon', 'fresh skinles'),\n",
       " ('lemon', 'creole seasoning'),\n",
       " ('lemon', 'whole chive'),\n",
       " ('chive', 'lemon'),\n",
       " ('chive', 'compound butter'),\n",
       " ('chive', 'fresh skinles'),\n",
       " ('chive', 'creole seasoning'),\n",
       " ('chive', 'whole chive'),\n",
       " ('lemon', 'compound butter'),\n",
       " ('lemon', 'fresh skinles'),\n",
       " ('lemon', 'creole seasoning'),\n",
       " ('lemon', 'whole chive'),\n",
       " ('compound butter', 'fresh skinles'),\n",
       " ('compound butter', 'creole seasoning'),\n",
       " ('compound butter', 'whole chive'),\n",
       " ('fresh skinles', 'creole seasoning'),\n",
       " ('fresh skinles', 'whole chive'),\n",
       " ('creole seasoning', 'whole chive')]"
      ]
     },
     "execution_count": 163,
     "metadata": {},
     "output_type": "execute_result"
    }
   ],
   "source": [
    "list(itertools.combinations(['unsalted butter',\n",
    " 'creole seasoning',\n",
    " 'lemon',\n",
    " 'chive',\n",
    " 'lemon',\n",
    " 'compound butter',\n",
    " 'fresh skinles',\n",
    " 'creole seasoning',\n",
    " 'whole chive'],2))"
   ]
  },
  {
   "cell_type": "code",
   "execution_count": null,
   "metadata": {},
   "outputs": [],
   "source": []
  }
 ],
 "metadata": {
  "kernelspec": {
   "display_name": "Python 3",
   "language": "python",
   "name": "python3"
  },
  "language_info": {
   "codemirror_mode": {
    "name": "ipython",
    "version": 3
   },
   "file_extension": ".py",
   "mimetype": "text/x-python",
   "name": "python",
   "nbconvert_exporter": "python",
   "pygments_lexer": "ipython3",
   "version": "3.6.6"
  }
 },
 "nbformat": 4,
 "nbformat_minor": 2
}
